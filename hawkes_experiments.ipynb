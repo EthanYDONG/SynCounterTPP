{
 "cells": [
  {
   "cell_type": "markdown",
   "id": "d20cbf57",
   "metadata": {},
   "source": [
    "Dependencies"
   ]
  },
  {
   "cell_type": "code",
   "execution_count": 1,
   "id": "2e7f19ec",
   "metadata": {},
   "outputs": [],
   "source": [
    "import numpy as np\n",
    "import pandas as pd\n",
    "import seaborn as sns\n",
    "import matplotlib.pyplot as plt\n",
    "import os\n",
    "import sys\n",
    "from hawkes.hawkes import hawkes, hawkes_calculate, sampleHawkes, plotHawkes, iterative_sampling, extract_samples, sample_counterfactual_superposition, check_monotonicity_hawkes\n",
    "from sampling_utils import thinning_T, return_samples\n",
    "from counterfactual_tpp import sample_counterfactual, check_monotonicity, distance, covariance\n",
    "from multiprocessing import cpu_count, Pool\n",
    "from tqdm import tqdm\n",
    "import utils"
   ]
  },
  {
   "cell_type": "code",
   "execution_count": 2,
   "id": "81d38778",
   "metadata": {},
   "outputs": [],
   "source": [
    "def sample_counterfactual_superposition_plot(mu0, alpha, new_mu0, new_alpha, all_events, lambda_max, w, T):\n",
    "    \"\"\"Generates samples from the counterfactual intensity, and return the counterfactuals.\n",
    "    This is done in 3 steps:\n",
    "        1. First we calculate the counterfactual basedon the history in each exponential (created by superposiiton.).\n",
    "        2. Then we determine the events that were rejected in original intensity and accepted in intevened intensity (rej_acc).\n",
    "        3. Then we create a new exponential and sample for each rej_acc event.\n",
    "    \"\"\"\n",
    "    def constant1(x): return mu0\n",
    "    def constant2(x): return new_mu0\n",
    "    all_counterfactuals = {}\n",
    "    all_counterfactuals['mu'] = []\n",
    "    all_counterfactuals['exp'] = []\n",
    "    all_counterfactuals['new'] = []\n",
    "    count = 0\n",
    "    counterfactuals = {}\n",
    "    for t_i, events in all_events.items():\n",
    "        sample = list(events.keys())\n",
    "        if count == 0:\n",
    "            lambdas = [constant1(s) for s in sample]\n",
    "            counterfactuals_events, counterfactual_indicators = sample_counterfactual(\n",
    "                sample, lambdas, lambda_max, list(events.values()), constant2)\n",
    "            all_counterfactuals['mu'].extend(counterfactuals_events)\n",
    "        else:\n",
    "            def f(t): return alpha * np.exp(-w * (t - t_i))\n",
    "            def g(t): return new_alpha * np.exp(-w * (t - t_i))\n",
    "            lambdas = [f(s) for s in sample]\n",
    "            counterfactuals_events, counterfactual_indicators = sample_counterfactual(\n",
    "                sample, lambdas, lambda_max, list(events.values()), g)\n",
    "            all_counterfactuals['exp'].extend(counterfactuals_events)\n",
    "        count += 1\n",
    "        counterfactuals.update(\n",
    "            {sample[s]: counterfactual_indicators[s] for s in range(len(sample))})\n",
    "\n",
    "    rej_acc_events = {}\n",
    "    for events in list(all_events.values()):\n",
    "        for t_i in list(events.keys()):\n",
    "            if events[t_i] == False and counterfactuals[t_i] == True:\n",
    "                rej_acc_events[t_i] = True\n",
    "\n",
    "    new_events = {}\n",
    "    iterative_sampling(new_events, rej_acc_events, new_mu0,\n",
    "                       new_alpha, w, lambda_max, T)\n",
    "    # These are the additional counterfactuals sampled from the new intensity.\n",
    "    sampled_counterfactuals = list(new_events.keys())\n",
    "    sampled_counterfactuals.sort()\n",
    "    all_counterfactuals['new'].extend(sampled_counterfactuals)\n",
    "\n",
    "    # Combine all counterfactuals\n",
    "    real_counterfactuals = [k for k, v in counterfactuals.items() if v == True]\n",
    "    real_counterfactuals.extend(sampled_counterfactuals)\n",
    "    real_counterfactuals.sort()\n",
    "    real_counterfactuals = list(dict.fromkeys(real_counterfactuals))\n",
    "    return real_counterfactuals, all_counterfactuals"
   ]
  },
  {
   "cell_type": "code",
   "execution_count": 3,
   "id": "aebb5826",
   "metadata": {},
   "outputs": [],
   "source": [
    "def plotHawkes_plot(tevs, l_0, alpha_0, w, T, resolution, label, legend):\n",
    "\n",
    "    tvec = np.arange(0, T, step=T / resolution)\n",
    "\n",
    "    n = -1\n",
    "    l_t = np.zeros(len(tvec))\n",
    "    for t in tvec:\n",
    "        n += 1\n",
    "        m = l_0(t)\n",
    "        l_t[n] = m + alpha_0 * np.sum(np.exp(-w * (t - tevs[tevs < t])))\n",
    "\n",
    "    plt.plot(tvec, l_t, label=label)\n",
    "\n",
    "    return tvec, l_t"
   ]
  },
  {
   "cell_type": "code",
   "execution_count": 4,
   "id": "889dfb28",
   "metadata": {},
   "outputs": [],
   "source": [
    "def check_monotonicity_hawkes(mu0, alpha, new_mu0, new_alpha, all_events, sampled_events, real_counterfactuals, w):\n",
    "    count = 0\n",
    "    monotonic = 1\n",
    "    def constant1(x): return mu0\n",
    "    def constant2(x): return new_mu0\n",
    "    for t_i, events in all_events.items():\n",
    "        sample = list(events.keys())\n",
    "        if count == 0:\n",
    "            for s in sample: \n",
    "                if constant2(s) >= constant1(s) and s in sampled_events:\n",
    "                    if s not in real_counterfactuals:\n",
    "                        return('NOT  MONOTONIC, 1')\n",
    "                        monotonic = 0\n",
    "                if constant2(s) < constant1(s) and s not in sampled_events:\n",
    "                    if s in real_counterfactuals:\n",
    "                        return('NOT  MONOTONIC, 2')\n",
    "                        monotonic = 0\n",
    "        else:\n",
    "            for s in sample:\n",
    "                def f(t): return alpha * np.exp(-w * (t - t_i))\n",
    "                def g(t): return new_alpha * np.exp(-w * (t - t_i))\n",
    "                if g(s) >= f(s) and s in sampled_events:\n",
    "                    if s not in real_counterfactuals:\n",
    "                        return('NOT  MONOTONIC, 3')\n",
    "                        monotonic = 0\n",
    "                if g(s) < f(s) and s not in sampled_events:\n",
    "                    if s in real_counterfactuals:\n",
    "                        return('NOT  MONOTONIC, 4')\n",
    "                        monotonic = 0\n",
    "        count += 1\n",
    "        \n",
    "    if monotonic == 1:\n",
    "            return('MONOTONIC')"
   ]
  },
  {
   "cell_type": "code",
   "execution_count": 5,
   "id": "766ee3aa",
   "metadata": {},
   "outputs": [],
   "source": [
    "np.random.seed(5)\n",
    "w = 1\n",
    "mu0 = 1\n",
    "new_mu0 = 1\n",
    "alpha = 1"
   ]
  },
  {
   "cell_type": "code",
   "execution_count": 6,
   "id": "e361e103",
   "metadata": {},
   "outputs": [
    {
     "name": "stdout",
     "output_type": "stream",
     "text": [
      "1.4412274868850414\n"
     ]
    }
   ],
   "source": [
    "# run this cell only one time if you want to reproduce the results for \"Intervention increases self-excitation\"\n",
    "# run this cell four times if you want to reproduce the results for \"Intervention decreases self-excitation\"\n",
    "new_alpha = alpha + np.random.normal(loc=0.0, scale=1, size=1)[0]\n",
    "print(new_alpha)"
   ]
  },
  {
   "cell_type": "code",
   "execution_count": 7,
   "id": "2b295296",
   "metadata": {},
   "outputs": [],
   "source": [
    "lambda_max = 1.5\n",
    "T = 5"
   ]
  },
  {
   "cell_type": "markdown",
   "id": "df57029c",
   "metadata": {},
   "source": [
    "Run (uncomment) the following four cells in case you want to generate new data and save them. "
   ]
  },
  {
   "cell_type": "code",
   "execution_count": 8,
   "id": "b009d657",
   "metadata": {},
   "outputs": [],
   "source": [
    "def counterfactual1(_):\n",
    "    initial_sample, indicators = thinning_T(0, lambda t: mu0, lambda_max, T)\n",
    "    events = {initial_sample[i]: indicators[i] for i in range(len(initial_sample))}\n",
    "    all_events = {}\n",
    "    all_events[mu0] = events\n",
    "    iterative_sampling(all_events, events, mu0, alpha, w, lambda_max, T)\n",
    "    sampled_events = list(all_events.keys())[1:]\n",
    "    sampled_events.sort()\n",
    "    sampled_events = np.array(sampled_events)\n",
    "    counters = []\n",
    "    for counter in range(50):\n",
    "        real_counterfactuals = sample_counterfactual_superposition(mu0, alpha, new_mu0, new_alpha, all_events, lambda_max, w, T)\n",
    "        counters.append(real_counterfactuals)\n",
    "    return sampled_events, counters, all_events"
   ]
  },
  {
   "cell_type": "code",
   "execution_count": 9,
   "id": "e2b2c4aa",
   "metadata": {},
   "outputs": [],
   "source": [
    "# Run in case you want to generate new data\n",
    "# with Pool(48) as pool:\n",
    "#     result = list(tqdm(pool.imap(counterfactual1, list(range(1000))), total = 1000))"
   ]
  },
  {
   "cell_type": "code",
   "execution_count": 10,
   "id": "a0e7de06",
   "metadata": {},
   "outputs": [],
   "source": [
    "# Save\n",
    "# all_events_save = [result[i][2] for i in range(1000)]\n",
    "# import json\n",
    "# # json.dump(all_events, output_file)\n",
    "# with open('data_hawkes/allevents.json', 'w') as fout:\n",
    "#     json.dump(all_events_save , fout)"
   ]
  },
  {
   "cell_type": "code",
   "execution_count": 11,
   "id": "db982302",
   "metadata": {
    "scrolled": true
   },
   "outputs": [],
   "source": [
    "# save = [result[i][0] for i in range(1000)]\n",
    "# np.save('data_hawkes/hawkes_1000_100.npy', save, allow_pickle=True)"
   ]
  },
  {
   "cell_type": "markdown",
   "id": "9f32a7d4",
   "metadata": {},
   "source": [
    "The following cells will read the same data we used (and generated) in our paper."
   ]
  },
  {
   "cell_type": "code",
   "execution_count": 12,
   "id": "e0a0fa27",
   "metadata": {},
   "outputs": [],
   "source": [
    "# Read\n",
    "import json\n",
    "with open(r'data_hawkes/allevents.json', \"r\") as read_file:\n",
    "    data = json.load(read_file)"
   ]
  },
  {
   "cell_type": "code",
   "execution_count": 13,
   "id": "079dbfac",
   "metadata": {},
   "outputs": [],
   "source": [
    "new_data = []\n",
    "for dic in data:\n",
    "    new_dic = {}\n",
    "    for key, value in dic.items():\n",
    "        sub_dic = {}\n",
    "        for k, v in value.items():\n",
    "            sub_dic[float(k)] = v\n",
    "        new_dic[float(key)] = sub_dic\n",
    "    new_data.append(new_dic)"
   ]
  },
  {
   "cell_type": "code",
   "execution_count": 14,
   "id": "431e8dff",
   "metadata": {},
   "outputs": [],
   "source": [
    "def counterfactual2(_):\n",
    "    all_events = new_data[_]\n",
    "    counters = []\n",
    "    all_counters = []\n",
    "    for counter in range(100):\n",
    "        real_counterfactuals, all_counterfactuals = sample_counterfactual_superposition_plot(mu0, alpha, new_mu0, new_alpha, all_events, lambda_max, w, T)\n",
    "        counters.append(real_counterfactuals)\n",
    "        all_counters.append(all_counterfactuals)\n",
    "        sampled_events = list(all_events.keys())[1:]\n",
    "        sampled_events.sort()\n",
    "        sampled_events = np.array(sampled_events)\n",
    "        if check_monotonicity_hawkes(mu0, alpha, new_mu0, new_alpha, all_events, sampled_events, real_counterfactuals, w) != 'MONOTONIC':\n",
    "            print('Not Monotonic')\n",
    "    return all_events, counters, all_counters"
   ]
  },
  {
   "cell_type": "code",
   "execution_count": 15,
   "id": "74b42139",
   "metadata": {},
   "outputs": [
    {
     "name": "stderr",
     "output_type": "stream",
     "text": [
      "100%|██████████| 1000/1000 [00:46<00:00, 21.55it/s]\n"
     ]
    }
   ],
   "source": [
    "with Pool(48) as pool:\n",
    "    result = list(tqdm(pool.imap(counterfactual2, list(range(1000))), total = 1000))"
   ]
  },
  {
   "cell_type": "code",
   "execution_count": 16,
   "id": "88eb1b18",
   "metadata": {},
   "outputs": [],
   "source": [
    "b = np.load('data_hawkes/hawkes_1000_100.npy', allow_pickle=True)"
   ]
  },
  {
   "cell_type": "code",
   "execution_count": 17,
   "id": "5e6259bf",
   "metadata": {},
   "outputs": [
    {
     "name": "stdout",
     "output_type": "stream",
     "text": [
      "1000\n",
      "59\n"
     ]
    }
   ],
   "source": [
    "def count_interval(start, end, samples):\n",
    "    return len(samples[(start <= samples) & (samples < end)])\n",
    "\n",
    "number_of_events = [count_interval(0, T, b[i]) for i in range(len(b))]\n",
    "print(len(number_of_events))\n",
    "number_of_groups = 3\n",
    "quantile_indices = pd.qcut(number_of_events, number_of_groups, labels = range(number_of_groups)).to_numpy()\n",
    "print(max(number_of_events))"
   ]
  },
  {
   "cell_type": "code",
   "execution_count": 18,
   "id": "38cca3a9",
   "metadata": {},
   "outputs": [
    {
     "name": "stdout",
     "output_type": "stream",
     "text": [
      "364.0\n",
      "348.0\n",
      "288.0\n"
     ]
    }
   ],
   "source": [
    "groups = [[] for i in range(number_of_groups)]\n",
    "samples_groups = [[] for i in range(number_of_groups)]\n",
    "for i in range(1000):\n",
    "    k = quantile_indices[i]\n",
    "    groups[k].extend(result[i][1])\n",
    "    samples_groups[k].append(b[i])\n",
    "for i in range(number_of_groups):\n",
    "    print(len(groups[i]) / 100)"
   ]
  },
  {
   "cell_type": "markdown",
   "id": "7e7b8d4e",
   "metadata": {},
   "source": [
    "In the following cells we start plotting the results."
   ]
  },
  {
   "cell_type": "code",
   "execution_count": 19,
   "id": "fc3f18a9",
   "metadata": {},
   "outputs": [
    {
     "name": "stdout",
     "output_type": "stream",
     "text": [
      "['5.04', '17.17', '36.17']\n",
      "0, 9\n",
      "******************\n",
      "10, 22\n",
      "******************\n",
      "25, 59\n"
     ]
    }
   ],
   "source": [
    "plot_groups = [[] for i in range(number_of_groups)]\n",
    "for i in range(1000):\n",
    "    k = quantile_indices[i]\n",
    "    plot_groups[k].append((b[i], result[i][1], result[i][2], result[i][0]))\n",
    "#***********************************************************************************    \n",
    "means = []\n",
    "for i in range(number_of_groups):\n",
    "    sum = 0\n",
    "    for j in range(len(samples_groups[i])):\n",
    "        sum += len(samples_groups[i][j])\n",
    "    means.append(sum / len(samples_groups[i]))\n",
    "means = [ '%.2f' % elem for elem in means ]\n",
    "print(means)\n",
    "#***********************************************************************************    \n",
    "print(min(len(samples_groups[0][j]) for j in range(len(samples_groups[0]))), end = ', ')\n",
    "print(max(len(samples_groups[0][j]) for j in range(len(samples_groups[0]))))\n",
    "print('******************')\n",
    "print(min(len(samples_groups[1][j]) for j in range(len(samples_groups[1]))), end = ', ')\n",
    "print(max(len(samples_groups[1][j]) for j in range(len(samples_groups[1]))))\n",
    "print('******************')\n",
    "print(min(len(samples_groups[2][j]) for j in range(len(samples_groups[2]))), end = ', ')\n",
    "print(max(len(samples_groups[2][j]) for j in range(len(samples_groups[2]))))"
   ]
  },
  {
   "cell_type": "code",
   "execution_count": 20,
   "id": "169d4c25",
   "metadata": {},
   "outputs": [],
   "source": [
    "d = []\n",
    "for i in range(number_of_groups):\n",
    "    for j in range(len(groups[i])):\n",
    "        d.append([means[i], len(groups[i][j])])\n",
    "        \n",
    "df = pd.DataFrame(d, columns=['Group', 'Number of Counterfactuals'])"
   ]
  },
  {
   "cell_type": "code",
   "execution_count": 21,
   "id": "74dd282d",
   "metadata": {},
   "outputs": [],
   "source": [
    "df.to_csv('data_hawkes/higher_hawkes.csv')"
   ]
  },
  {
   "cell_type": "code",
   "execution_count": 23,
   "id": "318f49dd",
   "metadata": {},
   "outputs": [
    {
     "data": {
      "text/plain": [
       "[<matplotlib.axis.YTick at 0x7fd70a4eadd0>,\n",
       " <matplotlib.axis.YTick at 0x7fd70a4e92d0>,\n",
       " <matplotlib.axis.YTick at 0x7fd70a4e98d0>,\n",
       " <matplotlib.axis.YTick at 0x7fd70a54e470>,\n",
       " <matplotlib.axis.YTick at 0x7fd70a54ef20>,\n",
       " <matplotlib.axis.YTick at 0x7fd70a54f9d0>,\n",
       " <matplotlib.axis.YTick at 0x7fd70df23b50>]"
      ]
     },
     "execution_count": 23,
     "metadata": {},
     "output_type": "execute_result"
    },
    {
     "data": {
      "image/png": "[encoded data removed]",
      "text/plain": [
       "<Figure size 647.214x350 with 1 Axes>"
      ]
     },
     "metadata": {},
     "output_type": "display_data"
    }
   ],
   "source": [
    "df = pd.read_csv('data_hawkes/higher_hawkes.csv')\n",
    "width_pt = 397\n",
    "fig_height, fig_aspect = utils.get_fig_dim(width_pt, fraction=0.65)\n",
    "fig, ax = plt.subplots(figsize=(4*fig_aspect,3.5))\n",
    "# plt.style.use(['science','no-latex'])\n",
    "plt.rcParams[\"axes.spines.right\"] = False\n",
    "plt.rcParams[\"axes.spines.top\"] = False\n",
    "plt.rcParams[\"xtick.top\"] = False\n",
    "plt.rcParams[\"ytick.right\"] = False\n",
    "sns.boxplot(x=\"Group\", y=\"Number of Counterfactuals\", data=df, palette=\"Set1\", whis=[5, 95]).set(\n",
    "    xlabel= \"Quantile\", \n",
    "    ylabel= \"Number of counterfactual events\"\n",
    ")\n",
    "sns.despine()\n",
    "ax.set_xticklabels(['Low', 'Medium', 'High'])\n",
    "ax.set_yticks(range(0,700,100))\n",
    "# fig.savefig('hawkes_high.pdf', bbox_inches = 'tight')"
   ]
  },
  {
   "cell_type": "code",
   "execution_count": 24,
   "id": "66751c43",
   "metadata": {
    "scrolled": true
   },
   "outputs": [
    {
     "ename": "OSError",
     "evalue": "'science' is not a valid package style, path of style file, URL of style file, or library style name (library styles are listed in `style.available`)",
     "output_type": "error",
     "traceback": [
      "\u001b[0;31m---------------------------------------------------------------------------\u001b[0m",
      "\u001b[0;31mFileNotFoundError\u001b[0m                         Traceback (most recent call last)",
      "File \u001b[0;32m~/.conda/envs/zh/lib/python3.10/site-packages/matplotlib/style/core.py:166\u001b[0m, in \u001b[0;36muse\u001b[0;34m(style)\u001b[0m\n\u001b[1;32m    165\u001b[0m \u001b[38;5;28;01mtry\u001b[39;00m:\n\u001b[0;32m--> 166\u001b[0m     style \u001b[38;5;241m=\u001b[39m \u001b[43m_rc_params_in_file\u001b[49m\u001b[43m(\u001b[49m\u001b[43mstyle\u001b[49m\u001b[43m)\u001b[49m\n\u001b[1;32m    167\u001b[0m \u001b[38;5;28;01mexcept\u001b[39;00m \u001b[38;5;167;01mIOError\u001b[39;00m \u001b[38;5;28;01mas\u001b[39;00m err:\n",
      "File \u001b[0;32m~/.conda/envs/zh/lib/python3.10/site-packages/matplotlib/__init__.py:854\u001b[0m, in \u001b[0;36m_rc_params_in_file\u001b[0;34m(fname, transform, fail_on_error)\u001b[0m\n\u001b[1;32m    853\u001b[0m rc_temp \u001b[38;5;241m=\u001b[39m {}\n\u001b[0;32m--> 854\u001b[0m \u001b[38;5;28;01mwith\u001b[39;00m _open_file_or_url(fname) \u001b[38;5;28;01mas\u001b[39;00m fd:\n\u001b[1;32m    855\u001b[0m     \u001b[38;5;28;01mtry\u001b[39;00m:\n",
      "File \u001b[0;32m~/.conda/envs/zh/lib/python3.10/contextlib.py:135\u001b[0m, in \u001b[0;36m_GeneratorContextManager.__enter__\u001b[0;34m(self)\u001b[0m\n\u001b[1;32m    134\u001b[0m \u001b[38;5;28;01mtry\u001b[39;00m:\n\u001b[0;32m--> 135\u001b[0m     \u001b[38;5;28;01mreturn\u001b[39;00m \u001b[38;5;28;43mnext\u001b[39;49m\u001b[43m(\u001b[49m\u001b[38;5;28;43mself\u001b[39;49m\u001b[38;5;241;43m.\u001b[39;49m\u001b[43mgen\u001b[49m\u001b[43m)\u001b[49m\n\u001b[1;32m    136\u001b[0m \u001b[38;5;28;01mexcept\u001b[39;00m \u001b[38;5;167;01mStopIteration\u001b[39;00m:\n",
      "File \u001b[0;32m~/.conda/envs/zh/lib/python3.10/site-packages/matplotlib/__init__.py:831\u001b[0m, in \u001b[0;36m_open_file_or_url\u001b[0;34m(fname)\u001b[0m\n\u001b[1;32m    830\u001b[0m fname \u001b[38;5;241m=\u001b[39m os\u001b[38;5;241m.\u001b[39mpath\u001b[38;5;241m.\u001b[39mexpanduser(fname)\n\u001b[0;32m--> 831\u001b[0m \u001b[38;5;28;01mwith\u001b[39;00m \u001b[38;5;28;43mopen\u001b[39;49m\u001b[43m(\u001b[49m\u001b[43mfname\u001b[49m\u001b[43m,\u001b[49m\u001b[43m \u001b[49m\u001b[43mencoding\u001b[49m\u001b[38;5;241;43m=\u001b[39;49m\u001b[38;5;124;43m'\u001b[39;49m\u001b[38;5;124;43mutf-8\u001b[39;49m\u001b[38;5;124;43m'\u001b[39;49m\u001b[43m)\u001b[49m \u001b[38;5;28;01mas\u001b[39;00m f:\n\u001b[1;32m    832\u001b[0m     \u001b[38;5;28;01myield\u001b[39;00m f\n",
      "\u001b[0;31mFileNotFoundError\u001b[0m: [Errno 2] No such file or directory: 'science'",
      "\nThe above exception was the direct cause of the following exception:\n",
      "\u001b[0;31mOSError\u001b[0m                                   Traceback (most recent call last)",
      "Cell \u001b[0;32mIn[24], line 5\u001b[0m\n\u001b[1;32m      3\u001b[0m fig_height, fig_aspect \u001b[38;5;241m=\u001b[39m utils\u001b[38;5;241m.\u001b[39mget_fig_dim(width_pt, fraction\u001b[38;5;241m=\u001b[39m\u001b[38;5;241m0.65\u001b[39m)\n\u001b[1;32m      4\u001b[0m fig, ax \u001b[38;5;241m=\u001b[39m plt\u001b[38;5;241m.\u001b[39msubplots(figsize\u001b[38;5;241m=\u001b[39m(fig_height\u001b[38;5;241m*\u001b[39m\u001b[38;5;241m5\u001b[39m,fig_height\u001b[38;5;241m/\u001b[39m\u001b[38;5;241m2\u001b[39m))\n\u001b[0;32m----> 5\u001b[0m \u001b[43mplt\u001b[49m\u001b[38;5;241;43m.\u001b[39;49m\u001b[43mstyle\u001b[49m\u001b[38;5;241;43m.\u001b[39;49m\u001b[43muse\u001b[49m\u001b[43m(\u001b[49m\u001b[43m[\u001b[49m\u001b[38;5;124;43m'\u001b[39;49m\u001b[38;5;124;43mscience\u001b[39;49m\u001b[38;5;124;43m'\u001b[39;49m\u001b[43m,\u001b[49m\u001b[38;5;124;43m'\u001b[39;49m\u001b[38;5;124;43mno-latex\u001b[39;49m\u001b[38;5;124;43m'\u001b[39;49m\u001b[43m]\u001b[49m\u001b[43m)\u001b[49m\n\u001b[1;32m      6\u001b[0m plt\u001b[38;5;241m.\u001b[39mrcParams[\u001b[38;5;124m\"\u001b[39m\u001b[38;5;124maxes.spines.right\u001b[39m\u001b[38;5;124m\"\u001b[39m] \u001b[38;5;241m=\u001b[39m \u001b[38;5;28;01mFalse\u001b[39;00m\n\u001b[1;32m      7\u001b[0m plt\u001b[38;5;241m.\u001b[39mrcParams[\u001b[38;5;124m\"\u001b[39m\u001b[38;5;124maxes.spines.top\u001b[39m\u001b[38;5;124m\"\u001b[39m] \u001b[38;5;241m=\u001b[39m \u001b[38;5;28;01mFalse\u001b[39;00m\n",
      "File \u001b[0;32m~/.conda/envs/zh/lib/python3.10/site-packages/matplotlib/style/core.py:168\u001b[0m, in \u001b[0;36muse\u001b[0;34m(style)\u001b[0m\n\u001b[1;32m    166\u001b[0m         style \u001b[38;5;241m=\u001b[39m _rc_params_in_file(style)\n\u001b[1;32m    167\u001b[0m     \u001b[38;5;28;01mexcept\u001b[39;00m \u001b[38;5;167;01mIOError\u001b[39;00m \u001b[38;5;28;01mas\u001b[39;00m err:\n\u001b[0;32m--> 168\u001b[0m         \u001b[38;5;28;01mraise\u001b[39;00m \u001b[38;5;167;01mIOError\u001b[39;00m(\n\u001b[1;32m    169\u001b[0m             \u001b[38;5;124mf\u001b[39m\u001b[38;5;124m\"\u001b[39m\u001b[38;5;132;01m{\u001b[39;00mstyle\u001b[38;5;132;01m!r}\u001b[39;00m\u001b[38;5;124m is not a valid package style, path of style \u001b[39m\u001b[38;5;124m\"\u001b[39m\n\u001b[1;32m    170\u001b[0m             \u001b[38;5;124mf\u001b[39m\u001b[38;5;124m\"\u001b[39m\u001b[38;5;124mfile, URL of style file, or library style name (library \u001b[39m\u001b[38;5;124m\"\u001b[39m\n\u001b[1;32m    171\u001b[0m             \u001b[38;5;124mf\u001b[39m\u001b[38;5;124m\"\u001b[39m\u001b[38;5;124mstyles are listed in `style.available`)\u001b[39m\u001b[38;5;124m\"\u001b[39m) \u001b[38;5;28;01mfrom\u001b[39;00m \u001b[38;5;21;01merr\u001b[39;00m\n\u001b[1;32m    172\u001b[0m filtered \u001b[38;5;241m=\u001b[39m {}\n\u001b[1;32m    173\u001b[0m \u001b[38;5;28;01mfor\u001b[39;00m k \u001b[38;5;129;01min\u001b[39;00m style:  \u001b[38;5;66;03m# don't trigger RcParams.__getitem__('backend')\u001b[39;00m\n",
      "\u001b[0;31mOSError\u001b[0m: 'science' is not a valid package style, path of style file, URL of style file, or library style name (library styles are listed in `style.available`)"
     ]
    },
    {
     "data": {
      "image/png": "[encoded data removed]",
      "text/plain": [
       "<Figure size 1103.39x110.339 with 1 Axes>"
      ]
     },
     "metadata": {},
     "output_type": "display_data"
    }
   ],
   "source": [
    "# some plotting params\n",
    "width_pt = 397\n",
    "fig_height, fig_aspect = utils.get_fig_dim(width_pt, fraction=0.65)\n",
    "fig, ax = plt.subplots(figsize=(fig_height*5,fig_height/2))\n",
    "# plt.style.use(['science','no-latex'])\n",
    "plt.rcParams[\"axes.spines.right\"] = False\n",
    "plt.rcParams[\"axes.spines.top\"] = False\n",
    "plt.rcParams[\"xtick.top\"] = False\n",
    "plt.rcParams[\"ytick.right\"] = False"
   ]
  },
  {
   "cell_type": "code",
   "execution_count": null,
   "id": "0dc3a03b",
   "metadata": {},
   "outputs": [],
   "source": [
    "# The following numbers indicate the samples we plotted in the paper.\n",
    "# i = 0, j = 0, k = 0\n",
    "# i = 1, j = 100, k = 20\n",
    "# i = 2, j = 0, k = 0\n",
    "# *************************\n",
    "# i = 0, j = 0, k = 0\n",
    "# i = 1, j = 0, k = 0\n",
    "# i = 2, j = 0, k = 0"
   ]
  },
  {
   "cell_type": "code",
   "execution_count": null,
   "id": "bb6d0a27",
   "metadata": {},
   "outputs": [],
   "source": [
    "# you can select j and k randomly\n",
    "i = 0\n",
    "k = 0\n",
    "j = 0 # from 0 to the length of the group\n",
    "all_events = plot_groups[i][j][3].copy()\n",
    "mu_events = [k for k, v in all_events[mu0].items() if v == True]\n",
    "s_plot = plot_groups[i][j][0]\n",
    "s = np.array(list(set(s_plot) - set(mu_events)))\n",
    "c = plot_groups[i][j][1][k]\n",
    "all_c = plot_groups[i][j][2][k].copy()\n",
    "all_c['new'] = list(set(all_c['new']) - set(all_c['exp']))"
   ]
  },
  {
   "cell_type": "code",
   "execution_count": null,
   "id": "113b8ed3",
   "metadata": {},
   "outputs": [
    {
     "data": {
      "text/plain": [
       "Text(0.5, 0, 'time')"
      ]
     },
     "execution_count": 24,
     "metadata": {},
     "output_type": "execute_result"
    },
    {
     "data": {
      "image/png": "[encoded data removed]",
      "text/plain": [
       "<Figure size 931.988x144 with 1 Axes>"
      ]
     },
     "metadata": {
      "needs_background": "light"
     },
     "output_type": "display_data"
    }
   ],
   "source": [
    "plt.rcParams[\"axes.spines.right\"] = False\n",
    "plt.rcParams[\"axes.spines.top\"] = False\n",
    "plt.rcParams['font.size'] = 12\n",
    "plt.rcParams['xtick.labelsize'] = 12\n",
    "plt.rcParams['ytick.labelsize'] = 12\n",
    "plt.figure(figsize=(8 * fig_aspect,2))\n",
    "a, b = plotHawkes_plot(s_plot, lambda t: mu0, alpha, w, T, 10000.0, label= r'$\\lambda_m(t)$', legend= 'accepted in counterfactual')\n",
    "a, b = plotHawkes_plot(np.array(c), lambda t: new_mu0, new_alpha, w, T, 10000.0, label= r\"$\\lambda_{m'}(t)$\", legend= 'accepted in counterfactual')\n",
    "plt.plot(mu_events, [-4 for i in range(len(mu_events))], 'x', color = 'navy',  label = r'$t \\sim \\mu_m(t)$')\n",
    "plt.plot(s, [-4 for i in range(len(s))], 'x', color = 'dodgerblue', label = r\"$t \\sim g_{m}(t)$\")\n",
    "plt.plot(all_c['mu'], [0 for i in range(len(all_c['mu']))], 'o', color = 'darkgreen', label = r\"$t \\sim \\mu_{m'}(t)$\")\n",
    "plt.plot(all_c['exp'], [0 for i in range(len(all_c['exp']))], 'o', color = 'limegreen', label = r\"$t \\sim g_{m'}(t)$ (existing $g_{m'}$)\")\n",
    "plt.plot(all_c['new'], [0 for i in range(len(all_c['new']))], 'o', color = 'orange', label = r\"$t \\sim g_{m'}(t)$ (new $g_{m'}$)\")\n",
    "plt.legend(loc='upper left', fontsize = 12, ncol=3)\n",
    "plt.xticks(np.arange(0,T +0.5,0.5))\n",
    "plt.yticks(np.arange(0,20,5))\n",
    "plt.xlabel('time')\n",
    "# plt.savefig('figs/hawkes_figs/example5box.pdf', bbox_inches = 'tight')"
   ]
  }
 ],
 "metadata": {
  "kernelspec": {
   "display_name": "Python 3 (ipykernel)",
   "language": "python",
   "name": "python3"
  },
  "language_info": {
   "codemirror_mode": {
    "name": "ipython",
    "version": 3
   },
   "file_extension": ".py",
   "mimetype": "text/x-python",
   "name": "python",
   "nbconvert_exporter": "python",
   "pygments_lexer": "ipython3",
   "version": "3.10.12"
  }
 },
 "nbformat": 4,
 "nbformat_minor": 5
}
